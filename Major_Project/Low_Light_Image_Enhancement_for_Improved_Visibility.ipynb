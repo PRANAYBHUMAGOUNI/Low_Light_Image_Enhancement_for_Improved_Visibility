{
 "cells": [
  {
   "cell_type": "markdown",
   "id": "48f91892",
   "metadata": {},
   "source": [
    "# Deep Learning-Based Low Light Image Enhancement for Improved Visibility"
   ]
  },
  {
   "cell_type": "markdown",
   "id": "29ce068a",
   "metadata": {},
   "source": [
    "# Importing Required Libraries"
   ]
  },
  {
   "cell_type": "code",
   "execution_count": 1,
   "id": "0928325a",
   "metadata": {},
   "outputs": [],
   "source": [
    "import tkinter as tk\n",
    "from tkinter import filedialog, messagebox\n",
    "from PIL import Image, ImageTk\n",
    "import argparse\n",
    "import os\n",
    "from skimage.metrics import peak_signal_noise_ratio, structural_similarity\n",
    "import numpy as np\n",
    "from scipy import fft\n",
    "from skimage import io, exposure, img_as_ubyte, img_as_float\n",
    "from tqdm import trange\n",
    "import matplotlib.pyplot as plt  \n",
    "import warnings\n",
    "\n",
    "warnings.filterwarnings('ignore')"
   ]
  },
  {
   "cell_type": "markdown",
   "id": "1383eec2",
   "metadata": {},
   "source": [
    "# Class for performing Local Illumination Map Enhancement (LIME)"
   ]
  },
  {
   "cell_type": "code",
   "execution_count": 2,
   "id": "14bd5ac6",
   "metadata": {},
   "outputs": [],
   "source": [
    "class LIME:\n",
    "    def __init__(self, iterations=10, alpha=2, rho=2, gamma=0.7, strategy=2, *args, **kwargs):\n",
    "        self.iterations = iterations\n",
    "        self.alpha = alpha\n",
    "        self.rho = rho\n",
    "        self.gamma = gamma\n",
    "        self.strategy = strategy\n",
    "\n",
    "    def load(self, imgPath):\n",
    "        self.L = img_as_float(io.imread(imgPath))\n",
    "        self.row = self.L.shape[0]\n",
    "        self.col = self.L.shape[1]\n",
    "\n",
    "        self.T_hat = np.max(self.L, axis=2)\n",
    "        self.dv = self.firstOrderDerivative(self.row)\n",
    "        self.dh = self.firstOrderDerivative(self.col, -1)\n",
    "        self.vecDD = self.toeplitizMatrix(self.row * self.col, self.row)\n",
    "        self.W = self.weightingStrategy()\n",
    "\n",
    "    def firstOrderDerivative(self, n, k=1):\n",
    "        return np.eye(n) * (-1) + np.eye(n, k=k)\n",
    "\n",
    "    def toeplitizMatrix(self, n, row):\n",
    "        vecDD = np.zeros(n)\n",
    "        vecDD[0] = 4\n",
    "        vecDD[1] = -1\n",
    "        vecDD[row] = -1\n",
    "        vecDD[-1] = -1\n",
    "        vecDD[-row] = -1\n",
    "        return vecDD\n",
    "\n",
    "    def weightingStrategy(self):\n",
    "        if self.strategy == 2:\n",
    "            dTv = self.dv @ self.T_hat\n",
    "            dTh = self.T_hat @ self.dh\n",
    "            Wv = 1 / (np.abs(dTv) + 1)\n",
    "            Wh = 1 / (np.abs(dTh) + 1)\n",
    "            return np.vstack([Wv, Wh])\n",
    "        else:\n",
    "            return np.ones((self.row * 2, self.col))\n",
    "\n",
    "    def __T_subproblem(self, G, Z, u):\n",
    "        X = G - Z / u\n",
    "        Xv = X[:self.row, :]\n",
    "        Xh = X[self.row:, :]\n",
    "        temp = self.dv @ Xv + Xh @ self.dh\n",
    "        numerator = fft.fft(self.vectorize(2 * self.T_hat + u * temp))\n",
    "        denominator = fft.fft(self.vecDD * u) + 2\n",
    "        T = fft.ifft(numerator / denominator)\n",
    "        T = np.real(self.reshape(T, self.row, self.col))\n",
    "        return exposure.rescale_intensity(T, (0, 1), (0.001, 1))\n",
    "\n",
    "    def __G_subproblem(self, T, Z, u, W):\n",
    "        dT = self.__derivative(T)\n",
    "        epsilon = self.alpha * W / u\n",
    "        X = dT + Z / u\n",
    "        return np.sign(X) * np.maximum(np.abs(X) - epsilon, 0)\n",
    "\n",
    "    def __Z_subproblem(self, T, G, Z, u):\n",
    "        dT = self.__derivative(T)\n",
    "        return Z + u * (dT - G)\n",
    "\n",
    "    def __u_subproblem(self, u):\n",
    "        return u * self.rho\n",
    "\n",
    "    def __derivative(self, matrix):\n",
    "        v = self.dv @ matrix\n",
    "        h = matrix @ self.dh\n",
    "        return np.vstack([v, h])\n",
    "\n",
    "    def illumMap(self):\n",
    "        T = np.zeros((self.row, self.col))\n",
    "        G = np.zeros((self.row * 2, self.col))\n",
    "        Z = np.zeros((self.row * 2, self.col))\n",
    "        u = 1\n",
    "\n",
    "        for _ in trange(0, self.iterations):\n",
    "            T = self.__T_subproblem(G, Z, u)\n",
    "            G = self.__G_subproblem(T, Z, u, self.W)\n",
    "            Z = self.__Z_subproblem(T, G, Z, u)\n",
    "            u = self.__u_subproblem(u)\n",
    "\n",
    "        return T ** self.gamma\n",
    "\n",
    "    def enhance(self):\n",
    "        self.T = self.illumMap()\n",
    "        self.R = self.L / np.repeat(self.T[:, :, np.newaxis], 3, axis=2)\n",
    "        self.R = exposure.rescale_intensity(self.R, (0, 1))\n",
    "        self.R = img_as_ubyte(self.R)\n",
    "        return self.R\n",
    "\n",
    "    def vectorize(self, matrix):\n",
    "        return matrix.T.ravel()\n",
    "\n",
    "    def reshape(self, vector, row, col):\n",
    "        return vector.reshape((row, col), order='F')"
   ]
  },
  {
   "cell_type": "markdown",
   "id": "467f93c9",
   "metadata": {},
   "source": [
    "# Image Enhancement Function"
   ]
  },
  {
   "cell_type": "code",
   "execution_count": 3,
   "id": "92899b31",
   "metadata": {},
   "outputs": [],
   "source": [
    "def enhance_image(filePath, options):\n",
    "    lime = LIME(**vars(options))\n",
    "    lime.load(filePath)\n",
    "    enhanced_image = lime.enhance()\n",
    "    \n",
    "    filename = os.path.split(filePath)[-1]\n",
    "    \n",
    "    # Create the output directory if it doesn't exist\n",
    "    if options.output and not os.path.exists(options.output):\n",
    "        os.makedirs(options.output)\n",
    "    \n",
    "    if options.output:\n",
    "        savePath = os.path.join(options.output, f\"enhanced_{filename}\")\n",
    "        plt.imsave(savePath, enhanced_image)\n",
    "\n",
    "    original_image = Image.open(filePath)\n",
    "    original_array = np.array(original_image)\n",
    "    enhanced_array = np.array(enhanced_image)\n",
    "\n",
    "    # Calculate PSNR (Peak Signal-to-Noise Ratio)\n",
    "    psnr_value = peak_signal_noise_ratio(original_array, enhanced_array)\n",
    "    print('PSNR', psnr_value)\n",
    "    \n",
    "    # Calculate SSIM (Structural Similarity Index) with explicit win_size\n",
    "    ssim_value = structural_similarity(original_array, enhanced_array, multichannel=True, win_size=7, channel_axis=-1)\n",
    "    print('SSIM', ssim_value)\n",
    "    \n",
    "    # Calculate MSE (Mean Squared Error)\n",
    "    mse_value = np.mean((original_array - enhanced_array) ** 2)\n",
    "    print('MSE', mse_value)\n",
    "\n",
    "    return Image.fromarray(enhanced_array)\n"
   ]
  },
  {
   "cell_type": "markdown",
   "id": "e8f2d42b",
   "metadata": {},
   "source": [
    "# Class for GUI-based image enhancement application"
   ]
  },
  {
   "cell_type": "code",
   "execution_count": 4,
   "id": "d3ad6b54",
   "metadata": {},
   "outputs": [],
   "source": [
    "class ImageEnhancementApp:\n",
    "    def __init__(self, master, options):\n",
    "        self.master = master\n",
    "        self.options = options\n",
    "        master.title(\"Image Enhancement\")\n",
    "\n",
    "        self.label = tk.Label(master, text=\"Select an image to enhance:\")\n",
    "        self.label.pack()\n",
    "\n",
    "        self.select_button = tk.Button(master, text=\"Select Image\", command=self.select_image)\n",
    "        self.select_button.pack()\n",
    "\n",
    "        self.enhance_button = tk.Button(master, text=\"Enhance Image\", command=self.enhance_image)\n",
    "        self.enhance_button.pack()\n",
    "\n",
    "        self.original_image_label = tk.Label(master)\n",
    "        self.original_image_label.pack(pady=10)\n",
    "\n",
    "        self.enhanced_image_label = tk.Label(master)\n",
    "        self.enhanced_image_label.pack(pady=10)\n",
    "\n",
    "    def select_image(self):\n",
    "        file_path = filedialog.askopenfilename(filetypes=[(\"Image Files\", \"*.jpg;*.jpeg;*.png;*.bmp\")])\n",
    "        if file_path:\n",
    "            self.image = Image.open(file_path)\n",
    "            self.photo = ImageTk.PhotoImage(self.image)\n",
    "            self.original_image_label.config(image=self.photo)\n",
    "\n",
    "            # Update the file_path variable in the enhancement options\n",
    "            self.options.filePath = file_path\n",
    "\n",
    "    def enhance_image(self):\n",
    "        if hasattr(self, 'image'):\n",
    "            # Call the enhance_image function with options and the selected image\n",
    "            enhanced_image = enhance_image(self.options.filePath, self.options)\n",
    "\n",
    "            # Update the image label with the enhanced image\n",
    "            self.enhanced_photo = ImageTk.PhotoImage(enhanced_image)\n",
    "            self.enhanced_image_label.config(image=self.enhanced_photo)\n",
    "        else:\n",
    "            messagebox.showerror(\"Error\", \"Please select an image first.\")\n"
   ]
  },
  {
   "cell_type": "markdown",
   "id": "5ffc59aa",
   "metadata": {},
   "source": [
    "# Main GUI Function and Argument Parsing"
   ]
  },
  {
   "cell_type": "code",
   "execution_count": null,
   "id": "7463119e",
   "metadata": {},
   "outputs": [
    {
     "name": "stderr",
     "output_type": "stream",
     "text": [
      "100%|██████████████████████████████████████████████████████████████████████████████████| 10/10 [00:00<00:00, 38.31it/s]\n"
     ]
    },
    {
     "name": "stdout",
     "output_type": "stream",
     "text": [
      "PSNR 13.755897494240443\n",
      "SSIM 0.47672970282533994\n",
      "MSE 55.193595400454605\n"
     ]
    }
   ],
   "source": [
    "def main_gui(options):\n",
    "    root = tk.Tk()\n",
    "    app = ImageEnhancementApp(root, options)\n",
    "    root.mainloop()\n",
    "\n",
    "if __name__ == \"__main__\":\n",
    "    # Parse the arguments for enhancement options\n",
    "    parser = argparse.ArgumentParser()\n",
    "    parser.add_argument(\"-f\", \"--filePath\", default=\"./data/1.bmp\", type=str, help=\"image path to enhance\")\n",
    "    parser.add_argument(\"-m\", \"--map\", action=\"store_true\", help=\"save illumination map\")\n",
    "    parser.add_argument(\"-o\", \"--output\", default=\"./\", type=str, help=\"output folder\")\n",
    "    parser.add_argument(\"-i\", \"--iterations\", default=10, type=int, help=\"iteration number\")\n",
    "    parser.add_argument(\"-a\", \"--alpha\", default=2, type=int, help=\"parameter of alpha\")\n",
    "    parser.add_argument(\"-r\", \"--rho\", default=2, type=int, help=\"parameter of rho\")\n",
    "    parser.add_argument(\"-g\", \"--gamma\", default=0.7, type=float, help=\"parameter of gamma\")\n",
    "    parser.add_argument(\"-s\", \"--strategy\", default=2, type=int, choices=[1, 2], help=\"weighting strategy\")\n",
    "    options = parser.parse_args()\n",
    "\n",
    "    main_gui(options)\n"
   ]
  },
  {
   "cell_type": "code",
   "execution_count": null,
   "id": "060cd93b",
   "metadata": {},
   "outputs": [],
   "source": []
  }
 ],
 "metadata": {
  "kernelspec": {
   "display_name": "Python 3 (ipykernel)",
   "language": "python",
   "name": "python3"
  },
  "language_info": {
   "codemirror_mode": {
    "name": "ipython",
    "version": 3
   },
   "file_extension": ".py",
   "mimetype": "text/x-python",
   "name": "python",
   "nbconvert_exporter": "python",
   "pygments_lexer": "ipython3",
   "version": "3.12.0"
  }
 },
 "nbformat": 4,
 "nbformat_minor": 5
}
